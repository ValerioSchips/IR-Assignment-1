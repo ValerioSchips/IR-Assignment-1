{
 "cells": [
  {
   "cell_type": "code",
   "execution_count": null,
   "metadata": {},
   "outputs": [],
   "source": [
    "docs_fold = \"Docs_large\"\n",
    "import json\n",
    "import pandas as pd\n",
    "import numpy as np\n",
    "general_path = '~/Information Retrivial/Ass1/Docs/'+docs_fold\n",
    "query_result_provided_path = general_path+'/query_res.csv'\n",
    "query_result_calculated_path = general_path+'/answer.json'\n",
    "query_result_calculated_csv_path = general_path+'/answer.csv'\n"
   ]
  },
  {
   "cell_type": "markdown",
   "metadata": {},
   "source": [
    "Loading the given query result"
   ]
  },
  {
   "cell_type": "code",
   "execution_count": null,
   "metadata": {},
   "outputs": [],
   "source": [
    "query_res = pd.read_csv(query_result_provided_path)"
   ]
  },
  {
   "cell_type": "markdown",
   "metadata": {},
   "source": [
    "Reading the json file with the calculated query result"
   ]
  },
  {
   "cell_type": "code",
   "execution_count": null,
   "metadata": {},
   "outputs": [],
   "source": [
    "answ_dict = dict()\n",
    "with open(query_result_calculated_path, \"r\") as outfile:\n",
    "    answ_dict = json.load(outfile)"
   ]
  },
  {
   "cell_type": "markdown",
   "metadata": {},
   "source": [
    "answ_dict is converted in a .csv file"
   ]
  },
  {
   "cell_type": "code",
   "execution_count": null,
   "metadata": {},
   "outputs": [],
   "source": [
    "with open(query_result_calculated_csv_path, \"w\") as outfile:\n",
    "    outfile.write(\"q_num,doc_id,score\")\n",
    "    outfile.write('\\n')\n",
    "for key0 in answ_dict.keys():\n",
    "    with open(query_result_calculated_csv_path, \"a\") as outfile:\n",
    "        sub_d = answ_dict[key0]\n",
    "        for key1 in sub_d.keys():\n",
    "            outfile.write(str(key0)+','+str(key1)+','+str(sub_d[key1]))\n",
    "            outfile.write('\\n')"
   ]
  },
  {
   "cell_type": "markdown",
   "metadata": {},
   "source": [
    "The created .csv file is loaded as a pandas df"
   ]
  },
  {
   "cell_type": "code",
   "execution_count": null,
   "metadata": {},
   "outputs": [],
   "source": [
    "answer_dict = pd.read_csv(query_result_calculated_csv_path)\n",
    "answer_dict = answer_dict.sort_values(['q_num', 'score'], ascending=[True, False])"
   ]
  },
  {
   "cell_type": "code",
   "execution_count": null,
   "metadata": {},
   "outputs": [],
   "source": [
    "answer_dict"
   ]
  },
  {
   "cell_type": "markdown",
   "metadata": {},
   "source": [
    "This function is used to order the result on the score"
   ]
  },
  {
   "cell_type": "code",
   "execution_count": null,
   "metadata": {},
   "outputs": [],
   "source": [
    "def add_col_score(x, name):\n",
    "    x[name] = np.arange(len(x))\n",
    "    return x"
   ]
  },
  {
   "cell_type": "markdown",
   "metadata": {},
   "source": [
    "The function is applied"
   ]
  },
  {
   "cell_type": "code",
   "execution_count": null,
   "metadata": {},
   "outputs": [],
   "source": [
    "answer_dict = answer_dict.groupby(['q_num'], as_index=False).apply(lambda x: add_col_score(x, \"score\"))\n",
    "answer_dict = answer_dict.reset_index(drop=True)"
   ]
  },
  {
   "cell_type": "code",
   "execution_count": null,
   "metadata": {},
   "outputs": [],
   "source": [
    "answer_dict"
   ]
  },
  {
   "cell_type": "markdown",
   "metadata": {},
   "source": [
    "A score column is added to query_res"
   ]
  },
  {
   "cell_type": "code",
   "execution_count": null,
   "metadata": {},
   "outputs": [],
   "source": [
    "query_res[['q_num', 'doc_id']] = query_res\n",
    "query_res = query_res[['q_num', 'doc_id']]\n",
    "query_res = query_res.groupby(['q_num'], as_index=False).apply(lambda x: add_col_score(x, \"col_s\"))\n",
    "query_res = query_res.sort_values(['q_num', 'col_s'], ascending=[True, True])\n",
    "query_res"
   ]
  },
  {
   "cell_type": "markdown",
   "metadata": {},
   "source": [
    "The two DF are merged to find only the queries that have the same answers in both the given solution and the calculated solution"
   ]
  },
  {
   "cell_type": "code",
   "execution_count": null,
   "metadata": {},
   "outputs": [],
   "source": [
    "query_res = query_res.merge(answer_dict, how='inner', on = ['q_num','doc_id'])"
   ]
  },
  {
   "cell_type": "code",
   "execution_count": null,
   "metadata": {},
   "outputs": [],
   "source": [
    "query_res"
   ]
  },
  {
   "cell_type": "markdown",
   "metadata": {},
   "source": [
    "Now will be checked also if the answer are in the correct order"
   ]
  },
  {
   "cell_type": "code",
   "execution_count": null,
   "metadata": {},
   "outputs": [],
   "source": [
    "def check_equal(x):\n",
    "    if abs(x['col_s'] - x['score']) <= 10:\n",
    "        return True\n",
    "    return False"
   ]
  },
  {
   "cell_type": "code",
   "execution_count": null,
   "metadata": {},
   "outputs": [],
   "source": [
    "query_res['check'] = query_res.apply(lambda x: check_equal(x), axis = 1)"
   ]
  },
  {
   "cell_type": "code",
   "execution_count": null,
   "metadata": {},
   "outputs": [],
   "source": [
    "query_res[query_res['check'] == True]"
   ]
  }
 ],
 "metadata": {
  "interpreter": {
   "hash": "19649b6d477f04954267d7dfcc1e3219afd53992c8847ec6a09d5cd5145b7914"
  },
  "kernelspec": {
   "display_name": "Python 3.8.3 64-bit ('base': conda)",
   "name": "python3"
  },
  "language_info": {
   "codemirror_mode": {
    "name": "ipython",
    "version": 3
   },
   "file_extension": ".py",
   "mimetype": "text/x-python",
   "name": "python",
   "nbconvert_exporter": "python",
   "pygments_lexer": "ipython3",
   "version": "3.8.3"
  },
  "orig_nbformat": 4
 },
 "nbformat": 4,
 "nbformat_minor": 2
}
