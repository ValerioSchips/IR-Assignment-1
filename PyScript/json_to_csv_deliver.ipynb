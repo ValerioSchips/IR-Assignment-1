{
 "cells": [
  {
   "cell_type": "code",
   "execution_count": null,
   "metadata": {},
   "outputs": [],
   "source": [
    "docs_fold = \"Docs_large\"\n",
    "import json\n",
    "import pandas as pd\n",
    "general_path = '~/Information Retrivial/Ass1/Docs/'+docs_fold\n",
    "query_result_calculated_path = general_path+'/answer_main.json'\n",
    "query_result_calculated_csv_path = general_path+'/result.csv'\n"
   ]
  },
  {
   "cell_type": "markdown",
   "metadata": {},
   "source": [
    "Reading the json file with the calculated query result"
   ]
  },
  {
   "cell_type": "code",
   "execution_count": null,
   "metadata": {},
   "outputs": [],
   "source": [
    "answ_dict = dict()\n",
    "with open(query_result_calculated_path, \"r\") as outfile:\n",
    "    answ_dict = json.load(outfile)"
   ]
  },
  {
   "cell_type": "markdown",
   "metadata": {},
   "source": [
    "answ_dict is converted in a .csv file"
   ]
  },
  {
   "cell_type": "code",
   "execution_count": null,
   "metadata": {},
   "outputs": [],
   "source": [
    "def o_write_file_csv(cols_name = \"q_num,doc_id,score\"):\n",
    "    with open(query_result_calculated_csv_path, \"w\") as outfile:\n",
    "        outfile.write(cols_name)\n",
    "        outfile.write('\\n')\n",
    "    for key0 in answ_dict.keys():\n",
    "        with open(query_result_calculated_csv_path, \"a\") as outfile:\n",
    "            sub_d = answ_dict[key0]\n",
    "            for key1 in sub_d.keys():\n",
    "                outfile.write(str(key0)+','+str(key1)+','+str(sub_d[key1]))\n",
    "                outfile.write('\\n')"
   ]
  },
  {
   "cell_type": "code",
   "execution_count": null,
   "metadata": {},
   "outputs": [],
   "source": [
    "o_write_file_csv()"
   ]
  },
  {
   "cell_type": "markdown",
   "metadata": {},
   "source": [
    "The created .csv file is loaded as a pandas df"
   ]
  },
  {
   "cell_type": "code",
   "execution_count": null,
   "metadata": {},
   "outputs": [],
   "source": [
    "answer_dict = pd.read_csv(query_result_calculated_csv_path)\n",
    "answer_dict = answer_dict.sort_values(['q_num', 'score'], ascending=[True, False])"
   ]
  },
  {
   "cell_type": "code",
   "execution_count": null,
   "metadata": {},
   "outputs": [],
   "source": [
    "answer_dict"
   ]
  },
  {
   "cell_type": "code",
   "execution_count": null,
   "metadata": {},
   "outputs": [],
   "source": [
    "answer_dict[[\"Query_number\", \"Document_number\"]] = answer_dict[[\"q_num\", \"doc_id\"]]\n",
    "answer_dict[[\"Query_number\", \"Document_number\"]].to_csv(query_result_calculated_csv_path, index=False, sep='\\t')"
   ]
  },
  {
   "cell_type": "code",
   "execution_count": null,
   "metadata": {},
   "outputs": [],
   "source": []
  }
 ],
 "metadata": {
  "interpreter": {
   "hash": "19649b6d477f04954267d7dfcc1e3219afd53992c8847ec6a09d5cd5145b7914"
  },
  "kernelspec": {
   "display_name": "Python 3.8.3 64-bit ('base': conda)",
   "name": "python3"
  },
  "language_info": {
   "codemirror_mode": {
    "name": "ipython",
    "version": 3
   },
   "file_extension": ".py",
   "mimetype": "text/x-python",
   "name": "python",
   "nbconvert_exporter": "python",
   "pygments_lexer": "ipython3",
   "version": "3.8.3"
  },
  "orig_nbformat": 4
 },
 "nbformat": 4,
 "nbformat_minor": 2
}
